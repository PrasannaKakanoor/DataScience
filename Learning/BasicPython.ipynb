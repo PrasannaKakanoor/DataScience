{
 "cells": [
  {
   "cell_type": "markdown",
   "metadata": {},
   "source": [
    "# Intraduction\n",
    "\n",
    "Welcome to Data science\n",
    "1. Learn Jupyter Notebook platform\n",
    "2. Learn Python\n",
    "3. Practice labs"
   ]
  },
  {
   "cell_type": "markdown",
   "metadata": {},
   "source": [
    "# Basic Commands\n",
    "\n",
    "Shift+ Enter run\n",
    "Esc Go out of cell\n",
    "a , creates a cell above,\n",
    "b, create a cell below\n",
    "Enter , enters the cell\n",
    "shift tab , code completion\n",
    "c - Copy cell\n",
    "v - Paste cell below\n",
    "y - Change cell type to code\n",
    "dd - Delete a cell"
   ]
  },
  {
   "cell_type": "code",
   "execution_count": 1,
   "metadata": {},
   "outputs": [
    {
     "name": "stdout",
     "output_type": "stream",
     "text": [
      "Welcome to Data Science\n"
     ]
    }
   ],
   "source": [
    "print (\"Welcome to Data Science\")"
   ]
  },
  {
   "cell_type": "markdown",
   "metadata": {},
   "source": [
    "Shift+ Enter run\n",
    "Esc Go out of cell\n",
    "a , creates a cell above,\n",
    "b, create a cell below\n",
    "Enter , enters the cell\n",
    "shift tab , code completion\n",
    "c - Copy cell\n",
    "v - Paste cell below\n",
    "y - Change cell type to code\n",
    "dd - Delete a cell"
   ]
  },
  {
   "cell_type": "markdown",
   "metadata": {},
   "source": [
    "# Heading 1\n",
    "## Heading 1\n",
    "### Heading 3\n",
    "\n"
   ]
  },
  {
   "cell_type": "code",
   "execution_count": 2,
   "metadata": {},
   "outputs": [
    {
     "name": "stdout",
     "output_type": "stream",
     "text": [
      "Hello World\n",
      "Wall time: 0 ns\n"
     ]
    }
   ],
   "source": [
    "\n",
    "%time print('Hello World')\n"
   ]
  },
  {
   "cell_type": "code",
   "execution_count": 1,
   "metadata": {},
   "outputs": [
    {
     "name": "stdout",
     "output_type": "stream",
     "text": [
      "312 µs ± 8.1 µs per loop (mean ± std. dev. of 7 runs, 1000 loops each)\n"
     ]
    }
   ],
   "source": [
    "%timeit L = [n ** 2 for n in range(1000)]"
   ]
  },
  {
   "cell_type": "markdown",
   "metadata": {},
   "source": [
    "# Looping "
   ]
  },
  {
   "cell_type": "code",
   "execution_count": 48,
   "metadata": {},
   "outputs": [
    {
     "name": "stdout",
     "output_type": "stream",
     "text": [
      "1\n",
      "2\n",
      "3\n",
      "4\n",
      "5\n",
      "6\n",
      "7\n",
      "8\n",
      "9\n",
      "10\n",
      "Number of records  [1, 2, 3, 4, 5, 6, 7, 8, 9, 10]\n"
     ]
    }
   ],
   "source": [
    "# For statement\n",
    "numbers = [1,2,3,4,5,6,7,8,9,10]\n",
    "for number in numbers :\n",
    "    print (number);\n",
    "print (\"Number of records \", numbers);\n"
   ]
  },
  {
   "cell_type": "code",
   "execution_count": 49,
   "metadata": {},
   "outputs": [
    {
     "name": "stdout",
     "output_type": "stream",
     "text": [
      "Adding value 0 to element list\n",
      "Adding value 1 to element list\n",
      "Adding value 2 to element list\n",
      "Adding value 3 to element list\n",
      "Adding value 4 to element list\n",
      "Adding value 5 to element list\n",
      "Adding value 6 to element list\n",
      "Adding value 7 to element list\n",
      "Adding value 8 to element list\n",
      "Adding value 9 to element list\n",
      "Adding value 10 to element list\n",
      "Adding value 11 to element list\n",
      "Adding value 12 to element list\n",
      "Adding value 13 to element list\n",
      "Adding value 14 to element list\n",
      "Adding value 15 to element list\n",
      "Adding value 16 to element list\n",
      "Adding value 17 to element list\n",
      "Adding value 18 to element list\n",
      "Adding value 19 to element list\n",
      "[0, 1, 2, 3, 4, 5, 6, 7, 8, 9, 10, 11, 12, 13, 14, 15, 16, 17, 18, 19]\n",
      "[19, 18, 17, 16, 15, 14, 13, 12, 11, 10, 9, 8, 7, 6, 5, 4, 3, 2, 1, 0]\n"
     ]
    }
   ],
   "source": [
    "# For statement with range\n",
    "numbers = []\n",
    "for i in range(0, 20):\n",
    "    print (f\"Adding value {i} to element list\");\n",
    "    numbers.append(i);\n",
    "print (numbers);\n",
    "# reverse numbers\n",
    "numbers.reverse();\n",
    "print (numbers);  \n"
   ]
  },
  {
   "cell_type": "code",
   "execution_count": 64,
   "metadata": {},
   "outputs": [
    {
     "name": "stdout",
     "output_type": "stream",
     "text": [
      "Adding value 0 to number element\n",
      "Adding value 5 to number element\n",
      "Adding value 10 to number element\n",
      "Adding value 15 to number element\n",
      "Adding value 20 to number element\n",
      "Adding value 25 to number element\n",
      "Adding value 30 to number element\n",
      "Adding value 35 to number element\n",
      "Adding value 40 to number element\n",
      "Adding value 45 to number element\n",
      "Adding value 50 to number element\n",
      "Adding value 55 to number element\n",
      "Adding value 60 to number element\n",
      "Adding value 65 to number element\n",
      "Adding value 70 to number element\n",
      "Adding value 75 to number element\n",
      "Adding value 80 to number element\n",
      "Adding value 85 to number element\n",
      "Adding value 90 to number element\n",
      "Adding value 95 to number element\n",
      "Adding value 100 to number element\n",
      "[0, 5, 10, 15, 20, 25, 30, 35, 40, 45, 50, 55, 60, 65, 70, 75, 80, 85, 90, 95, 100]\n"
     ]
    }
   ],
   "source": [
    "# While statement \n",
    "i = 0\n",
    "numbers = []\n",
    "while (i <=100):\n",
    "    print (f\"Adding value {i} to number element\")\n",
    "    numbers.append(i)\n",
    "    i+=5;\n",
    "print (numbers)"
   ]
  },
  {
   "cell_type": "code",
   "execution_count": 65,
   "metadata": {},
   "outputs": [
    {
     "name": "stdout",
     "output_type": "stream",
     "text": [
      "0 Kashi\n",
      "1 Malik\n",
      "2 Manju\n",
      "3 Kallesh\n",
      "4 Prakash\n"
     ]
    }
   ],
   "source": [
    "# forloop with lenth\n",
    "friends = ['Kashi','Malik','Manju','Kallesh','Prakash']\n",
    "for i in range (0, len(friends)):\n",
    "    print (i, friends[i])\n"
   ]
  },
  {
   "cell_type": "code",
   "execution_count": 66,
   "metadata": {},
   "outputs": [
    {
     "name": "stdout",
     "output_type": "stream",
     "text": [
      "0 Kallesh\n",
      "1 Kashi\n",
      "2 Malik\n",
      "3 Manju\n",
      "4 Prakash\n"
     ]
    }
   ],
   "source": [
    "friends.sort()\n",
    "for i in range (0, len(friends)):\n",
    "    print (i, friends[i])"
   ]
  },
  {
   "cell_type": "code",
   "execution_count": 71,
   "metadata": {},
   "outputs": [],
   "source": [
    "for i in range (0,-1, len(friends)):\n",
    "     print (i, friends[i])    "
   ]
  },
  {
   "cell_type": "code",
   "execution_count": 72,
   "metadata": {},
   "outputs": [
    {
     "name": "stdout",
     "output_type": "stream",
     "text": [
      "0\n",
      "1\n",
      "2\n",
      "3\n",
      "4\n",
      "5\n",
      "6\n",
      "7\n",
      "8\n",
      "9\n",
      "10\n",
      "11\n"
     ]
    }
   ],
   "source": [
    "# While loop\n",
    "count =0\n",
    "while True :\n",
    "    print (count)\n",
    "    count+=1\n",
    "    if (count > 11):\n",
    "        break"
   ]
  },
  {
   "cell_type": "code",
   "execution_count": null,
   "metadata": {},
   "outputs": [],
   "source": []
  }
 ],
 "metadata": {
  "kernelspec": {
   "display_name": "Python 3",
   "language": "python",
   "name": "python3"
  },
  "language_info": {
   "codemirror_mode": {
    "name": "ipython",
    "version": 3
   },
   "file_extension": ".py",
   "mimetype": "text/x-python",
   "name": "python",
   "nbconvert_exporter": "python",
   "pygments_lexer": "ipython3",
   "version": "3.7.1"
  }
 },
 "nbformat": 4,
 "nbformat_minor": 2
}
